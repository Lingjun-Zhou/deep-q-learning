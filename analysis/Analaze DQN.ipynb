{
 "cells": [
  {
   "cell_type": "code",
   "execution_count": 55,
   "metadata": {
    "collapsed": false,
    "scrolled": true
   },
   "outputs": [
    {
     "name": "stdout",
     "output_type": "stream",
     "text": [
      "Downloaded!\n"
     ]
    }
   ],
   "source": [
    "%matplotlib inline\n",
    "import pandas as pd\n",
    "from subprocess import call\n",
    "\n",
    "\n",
    "ret = call([\"./fetch_game_reward.sh\"])\n",
    "\n",
    "if ret != 0:\n",
    "    print(\"Problem \", ret)\n",
    "else:\n",
    "    print(\"Downloaded!\")"
   ]
  },
  {
   "cell_type": "code",
   "execution_count": 83,
   "metadata": {
    "collapsed": false
   },
   "outputs": [],
   "source": [
    "log = pd.read_csv('log.out', sep=\"#\").iloc[:,0]\n",
    "rewards = log[log.str.startswith(\"Game reward: \")].str.extract('^Game reward: (\\d*)')\n",
    "loss = log[log.str.startswith(\"loss:\")].str.extract('loss:  (\\d+\\.\\d+)').astype(float)\n"
   ]
  },
  {
   "cell_type": "code",
   "execution_count": 85,
   "metadata": {
    "collapsed": false
   },
   "outputs": [
    {
     "data": {
      "text/plain": [
       "<matplotlib.axes._subplots.AxesSubplot at 0x119ab5650>"
      ]
     },
     "execution_count": 85,
     "metadata": {},
     "output_type": "execute_result"
    },
    {
     "data": {
      "image/png": "[encoded data removed]",
      "text/plain": [
       "<matplotlib.figure.Figure at 0x111238690>"
      ]
     },
     "metadata": {},
     "output_type": "display_data"
    }
   ],
   "source": [
    "pd.rolling_mean(rewards, 300).plot()"
   ]
  },
  {
   "cell_type": "code",
   "execution_count": 84,
   "metadata": {
    "collapsed": false
   },
   "outputs": [
    {
     "data": {
      "text/plain": [
       "<matplotlib.axes._subplots.AxesSubplot at 0x111a69690>"
      ]
     },
     "execution_count": 84,
     "metadata": {},
     "output_type": "execute_result"
    },
    {
     "data": {
      "image/png": "[encoded data removed]",
      "text/plain": [
       "<matplotlib.figure.Figure at 0x115faaf10>"
      ]
     },
     "metadata": {},
     "output_type": "display_data"
    }
   ],
   "source": [
    "pd.rolling_mean(loss, 300).plot()"
   ]
  },
  {
   "cell_type": "code",
   "execution_count": 53,
   "metadata": {
    "collapsed": false
   },
   "outputs": [
    {
     "data": {
      "text/plain": [
       "16        105\n",
       "27        110\n",
       "38         55\n",
       "49         55\n",
       "60        180\n",
       "71         80\n",
       "82        110\n",
       "93        385\n",
       "104        95\n",
       "115       180\n",
       "126       110\n",
       "137       225\n",
       "148       110\n",
       "159       115\n",
       "170        60\n",
       "181       210\n",
       "192       110\n",
       "203        50\n",
       "214        50\n",
       "225        85\n",
       "238       240\n",
       "249       105\n",
       "260       105\n",
       "271       140\n",
       "282        10\n",
       "293        55\n",
       "304       220\n",
       "315       150\n",
       "326       130\n",
       "337       120\n",
       "         ... \n",
       "128568    185\n",
       "128579     55\n",
       "128600    745\n",
       "128611     50\n",
       "129692    105\n",
       "130024     80\n",
       "130035    115\n",
       "130046     60\n",
       "130057     85\n",
       "130068    180\n",
       "130079    210\n",
       "130090    130\n",
       "130101    110\n",
       "130112    105\n",
       "130123     35\n",
       "130883     45\n",
       "131538     65\n",
       "131549    255\n",
       "131560     65\n",
       "131571    325\n",
       "131582    140\n",
       "131593    105\n",
       "131604    170\n",
       "131615    120\n",
       "131626    245\n",
       "133028    315\n",
       "133049    555\n",
       "133060     80\n",
       "133071     45\n",
       "133082    105\n",
       "Name: Compiling forward., dtype: object"
      ]
     },
     "execution_count": 53,
     "metadata": {},
     "output_type": "execute_result"
    }
   ],
   "source": [
    "import re\n",
    "#m = re.search(', 'abcdef')\n",
    "#extract('[ab](\\d)')\n"
   ]
  },
  {
   "cell_type": "code",
   "execution_count": 20,
   "metadata": {
    "collapsed": true
   },
   "outputs": [],
   "source": [
    "ret = call([\"./fetch_weights.sh\"])\n",
    "if ret != 0:\n",
    "    print(\"Problem \", ret)"
   ]
  }
 ],
 "metadata": {
  "kernelspec": {
   "display_name": "Python 2",
   "language": "python",
   "name": "python2"
  },
  "language_info": {
   "codemirror_mode": {
    "name": "ipython",
    "version": 2
   },
   "file_extension": ".py",
   "mimetype": "text/x-python",
   "name": "python",
   "nbconvert_exporter": "python",
   "pygments_lexer": "ipython2",
   "version": "2.7.11"
  }
 },
 "nbformat": 4,
 "nbformat_minor": 0
}
